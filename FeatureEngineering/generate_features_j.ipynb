{
 "cells": [
  {
   "cell_type": "code",
   "execution_count": 10,
   "id": "d779e7a5",
   "metadata": {},
   "outputs": [],
   "source": [
    "import pandas as pd\n",
    "import numpy as np\n",
    "from geopy.distance import geodesic"
   ]
  },
  {
   "cell_type": "code",
   "execution_count": 21,
   "id": "83b23eb0",
   "metadata": {},
   "outputs": [
    {
     "name": "stdout",
     "output_type": "stream",
     "text": [
      "['BEGIN_YEARMONTH', 'BEGIN_DAY', 'BEGIN_TIME', 'END_YEARMONTH', 'END_DAY', 'END_TIME', 'EPISODE_ID', 'EVENT_ID', 'STATE', 'STATE_FIPS', 'YEAR', 'MONTH_NAME', 'EVENT_TYPE', 'CZ_TYPE', 'CZ_FIPS', 'CZ_NAME', 'WFO', 'BEGIN_DATE_TIME', 'CZ_TIMEZONE', 'END_DATE_TIME', 'INJURIES_DIRECT', 'INJURIES_INDIRECT', 'DEATHS_DIRECT', 'DEATHS_INDIRECT', 'DAMAGE_PROPERTY', 'DAMAGE_CROPS', 'SOURCE', 'MAGNITUDE', 'MAGNITUDE_TYPE', 'FLOOD_CAUSE', 'CATEGORY', 'TOR_F_SCALE', 'TOR_LENGTH', 'TOR_WIDTH', 'TOR_OTHER_WFO', 'TOR_OTHER_CZ_STATE', 'TOR_OTHER_CZ_FIPS', 'TOR_OTHER_CZ_NAME', 'BEGIN_RANGE', 'BEGIN_AZIMUTH', 'BEGIN_LOCATION', 'END_RANGE', 'END_AZIMUTH', 'END_LOCATION', 'BEGIN_LAT', 'BEGIN_LON', 'END_LAT', 'END_LON', 'EPISODE_NARRATIVE', 'EVENT_NARRATIVE', 'DATA_SOURCE', 'FIPS', 'customers_out', 'run_start_times', 'lead_time', 'BEGIN_DATE', 'END_DATE', 'BEGIN_HOUR', 'event_duration', 'avg_event_duration_by_type', 'season', 'region_outage_freq', 'TOR_F_SCALE_NUM', 'event_severity', 'dist_to_state_center', 'monthly_outage_risk_index', 'event_type_freq', 'region_demand_proxy', 'event_hour_norm', 'year_trend', 'flood_cause_cat', 'tornado_length_proxy', 'tornado_width_proxy', 'region_avg_severity', 'is_weekday', 'neighbor_outage_impact', 'wfo_influence', 'lat_grid', 'lon_grid', 'grid_density', 'event_7day_density', 'event_season_combo', 'data_source_reliability', 'month_sin', 'grid_load_proxy', 'BEGIN_LAT_CENTER', 'BEGIN_LON_CENTER']\n"
     ]
    }
   ],
   "source": [
    "df = pd.read_csv(\"chatgpt_features_full.csv\",encoding='latin1')\n",
    "print(df.columns.tolist())\n",
    "\n",
    "df['FIPS'] = df['STATE_FIPS'].astype(str).str.zfill(2) + df['CZ_FIPS'].astype(str).str.zfill(3)\n",
    "df['FIPS'] = df['FIPS'].astype(int)\n"
   ]
  },
  {
   "cell_type": "code",
   "execution_count": 22,
   "id": "3a82d61a",
   "metadata": {},
   "outputs": [],
   "source": [
    "features = df[['customers_out', 'BEGIN_DATE_TIME', 'END_DATE_TIME',\n",
    "    'BEGIN_LAT', 'BEGIN_LON', 'grid_density', 'grid_load_proxy', 'month_sin', 'is_weekday', 'region_avg_severity',\n",
    "    'event_severity', 'EVENT_TYPE', 'avg_event_duration_by_type', 'region_outage_freq', 'FIPS']]"
   ]
  },
  {
   "cell_type": "code",
   "execution_count": 23,
   "id": "ec1f71f6",
   "metadata": {},
   "outputs": [
    {
     "name": "stdout",
     "output_type": "stream",
     "text": [
      "['customers_out', 'BEGIN_LAT', 'BEGIN_LON', 'grid_density', 'grid_load_proxy', 'month_sin', 'is_weekday', 'region_avg_severity', 'event_severity', 'avg_event_duration_by_type', 'region_outage_freq', 'FIPS', 'begin_month', 'begin_weekday', 'event_type_num']\n"
     ]
    },
    {
     "name": "stderr",
     "output_type": "stream",
     "text": [
      "C:\\Users\\jdsto\\AppData\\Local\\Temp\\ipykernel_7012\\3175783415.py:2: SettingWithCopyWarning: \n",
      "A value is trying to be set on a copy of a slice from a DataFrame.\n",
      "Try using .loc[row_indexer,col_indexer] = value instead\n",
      "\n",
      "See the caveats in the documentation: https://pandas.pydata.org/pandas-docs/stable/user_guide/indexing.html#returning-a-view-versus-a-copy\n",
      "  features['BEGIN_DATE_TIME'] = pd.to_datetime(features['BEGIN_DATE_TIME'])\n",
      "C:\\Users\\jdsto\\AppData\\Local\\Temp\\ipykernel_7012\\3175783415.py:3: SettingWithCopyWarning: \n",
      "A value is trying to be set on a copy of a slice from a DataFrame.\n",
      "Try using .loc[row_indexer,col_indexer] = value instead\n",
      "\n",
      "See the caveats in the documentation: https://pandas.pydata.org/pandas-docs/stable/user_guide/indexing.html#returning-a-view-versus-a-copy\n",
      "  features['END_DATE_TIME'] = pd.to_datetime(features['END_DATE_TIME'])\n",
      "C:\\Users\\jdsto\\AppData\\Local\\Temp\\ipykernel_7012\\3175783415.py:6: SettingWithCopyWarning: \n",
      "A value is trying to be set on a copy of a slice from a DataFrame.\n",
      "Try using .loc[row_indexer,col_indexer] = value instead\n",
      "\n",
      "See the caveats in the documentation: https://pandas.pydata.org/pandas-docs/stable/user_guide/indexing.html#returning-a-view-versus-a-copy\n",
      "  features['begin_month'] = features['BEGIN_DATE_TIME'].dt.month\n",
      "C:\\Users\\jdsto\\AppData\\Local\\Temp\\ipykernel_7012\\3175783415.py:7: SettingWithCopyWarning: \n",
      "A value is trying to be set on a copy of a slice from a DataFrame.\n",
      "Try using .loc[row_indexer,col_indexer] = value instead\n",
      "\n",
      "See the caveats in the documentation: https://pandas.pydata.org/pandas-docs/stable/user_guide/indexing.html#returning-a-view-versus-a-copy\n",
      "  features['begin_weekday'] = features['BEGIN_DATE_TIME'].dt.dayofweek  # Monday=0\n",
      "C:\\Users\\jdsto\\AppData\\Local\\Temp\\ipykernel_7012\\3175783415.py:18: SettingWithCopyWarning: \n",
      "A value is trying to be set on a copy of a slice from a DataFrame.\n",
      "Try using .loc[row_indexer,col_indexer] = value instead\n",
      "\n",
      "See the caveats in the documentation: https://pandas.pydata.org/pandas-docs/stable/user_guide/indexing.html#returning-a-view-versus-a-copy\n",
      "  features['event_type_num'] = features['EVENT_TYPE'].apply(map_event_to_num)\n"
     ]
    }
   ],
   "source": [
    "#change begin and end to datetime\n",
    "features['BEGIN_DATE_TIME'] = pd.to_datetime(features['BEGIN_DATE_TIME'])\n",
    "features['END_DATE_TIME'] = pd.to_datetime(features['END_DATE_TIME'])\n",
    "\n",
    "#extract features\n",
    "features['begin_month'] = features['BEGIN_DATE_TIME'].dt.month\n",
    "features['begin_weekday'] = features['BEGIN_DATE_TIME'].dt.dayofweek  # Monday=0\n",
    "\n",
    "#damage features are given in weird string format \n",
    "#features['DAMAGE_PROPERTY'] = features['DAMAGE_PROPERTY'].apply(parse_k).astype(int)\n",
    "#features['DAMAGE_CROPS'] = features['DAMAGE_CROPS'].apply(parse_k).astype(int)\n",
    "\n",
    "event_mapping = {event: idx for idx, event in enumerate(sorted(features['EVENT_TYPE'].unique()))}\n",
    "\n",
    "def map_event_to_num(event):\n",
    "    return event_mapping.get(event, -1)\n",
    "\n",
    "features['event_type_num'] = features['EVENT_TYPE'].apply(map_event_to_num)\n",
    "\n",
    "features = features.drop(columns=['BEGIN_DATE_TIME', 'END_DATE_TIME', 'EVENT_TYPE'])\n",
    "print(features.columns.tolist())\n",
    "features = features.dropna() #only one row contains NaNs"
   ]
  },
  {
   "cell_type": "code",
   "execution_count": 24,
   "id": "bcaa7954",
   "metadata": {},
   "outputs": [],
   "source": [
    "features.to_csv(\"features_j.csv\", index=False)"
   ]
  }
 ],
 "metadata": {
  "kernelspec": {
   "display_name": "base",
   "language": "python",
   "name": "python3"
  },
  "language_info": {
   "codemirror_mode": {
    "name": "ipython",
    "version": 3
   },
   "file_extension": ".py",
   "mimetype": "text/x-python",
   "name": "python",
   "nbconvert_exporter": "python",
   "pygments_lexer": "ipython3",
   "version": "3.11.7"
  }
 },
 "nbformat": 4,
 "nbformat_minor": 5
}
